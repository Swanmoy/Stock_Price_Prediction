{
  "nbformat": 4,
  "nbformat_minor": 0,
  "metadata": {
    "colab": {
      "name": "Untitled14.ipynb",
      "provenance": [],
      "collapsed_sections": []
    },
    "kernelspec": {
      "name": "python3",
      "display_name": "Python 3"
    },
    "language_info": {
      "name": "python"
    }
  },
  "cells": [
    {
      "cell_type": "code",
      "metadata": {
        "id": "8K4RcGk9KJpe"
      },
      "source": [
        "import pandas as pd\n",
        "import numpy as np\n",
        "from pickle import load\n",
        "from tensorflow import keras\n",
        "import matplotlib.pyplot as plt"
      ],
      "execution_count": null,
      "outputs": []
    },
    {
      "cell_type": "code",
      "metadata": {
        "id": "PWEWcznPKwmi"
      },
      "source": [
        "restored_model=keras.models.load_model('microsoft_model.h5')\n",
        "scaler = load(open('scaler_microdpft.pkl', 'rb'))"
      ],
      "execution_count": null,
      "outputs": []
    },
    {
      "cell_type": "code",
      "metadata": {
        "colab": {
          "base_uri": "https://localhost:8080/",
          "height": 408
        },
        "id": "TIUCjVeuLF90",
        "outputId": "881056dd-b1f9-40f3-b2b8-27288804abb5"
      },
      "source": [
        "data=pd.read_json(\"Microsoft-stocks.json\")\n",
        "data=data[5:]\n",
        "data=data['Time Series (Daily)']\n",
        "data=pd.DataFrame(data)\n",
        "data1=[[i['1. open'], i['4. close'], i['2. high']] for i in data['Time Series (Daily)']]\n",
        "data1=pd.DataFrame(data1, columns=['Open', 'Close', 'High'], index=data.index)\n",
        "data1=data1[:int(0.7*len(data1))]\n",
        "data1"
      ],
      "execution_count": null,
      "outputs": [
        {
          "output_type": "execute_result",
          "data": {
            "text/html": [
              "<div>\n",
              "<style scoped>\n",
              "    .dataframe tbody tr th:only-of-type {\n",
              "        vertical-align: middle;\n",
              "    }\n",
              "\n",
              "    .dataframe tbody tr th {\n",
              "        vertical-align: top;\n",
              "    }\n",
              "\n",
              "    .dataframe thead th {\n",
              "        text-align: right;\n",
              "    }\n",
              "</style>\n",
              "<table border=\"1\" class=\"dataframe\">\n",
              "  <thead>\n",
              "    <tr style=\"text-align: right;\">\n",
              "      <th></th>\n",
              "      <th>Open</th>\n",
              "      <th>Close</th>\n",
              "      <th>High</th>\n",
              "    </tr>\n",
              "  </thead>\n",
              "  <tbody>\n",
              "    <tr>\n",
              "      <th>2021-10-29</th>\n",
              "      <td>324.1300</td>\n",
              "      <td>331.6200</td>\n",
              "      <td>332.0000</td>\n",
              "    </tr>\n",
              "    <tr>\n",
              "      <th>2021-10-28</th>\n",
              "      <td>324.3250</td>\n",
              "      <td>324.3500</td>\n",
              "      <td>324.8700</td>\n",
              "    </tr>\n",
              "    <tr>\n",
              "      <th>2021-10-27</th>\n",
              "      <td>316.0000</td>\n",
              "      <td>323.1700</td>\n",
              "      <td>326.0973</td>\n",
              "    </tr>\n",
              "    <tr>\n",
              "      <th>2021-10-26</th>\n",
              "      <td>311.0000</td>\n",
              "      <td>310.1100</td>\n",
              "      <td>312.3950</td>\n",
              "    </tr>\n",
              "    <tr>\n",
              "      <th>2021-10-25</th>\n",
              "      <td>309.3600</td>\n",
              "      <td>308.1300</td>\n",
              "      <td>309.4000</td>\n",
              "    </tr>\n",
              "    <tr>\n",
              "      <th>...</th>\n",
              "      <td>...</td>\n",
              "      <td>...</td>\n",
              "      <td>...</td>\n",
              "    </tr>\n",
              "    <tr>\n",
              "      <th>2006-06-16</th>\n",
              "      <td>21.9700</td>\n",
              "      <td>22.1000</td>\n",
              "      <td>22.2800</td>\n",
              "    </tr>\n",
              "    <tr>\n",
              "      <th>2006-06-15</th>\n",
              "      <td>22.0100</td>\n",
              "      <td>22.0700</td>\n",
              "      <td>22.1301</td>\n",
              "    </tr>\n",
              "    <tr>\n",
              "      <th>2006-06-14</th>\n",
              "      <td>21.5900</td>\n",
              "      <td>21.8800</td>\n",
              "      <td>21.9400</td>\n",
              "    </tr>\n",
              "    <tr>\n",
              "      <th>2006-06-13</th>\n",
              "      <td>21.7300</td>\n",
              "      <td>21.5100</td>\n",
              "      <td>22.0300</td>\n",
              "    </tr>\n",
              "    <tr>\n",
              "      <th>2006-06-12</th>\n",
              "      <td>21.9500</td>\n",
              "      <td>21.7100</td>\n",
              "      <td>22.1000</td>\n",
              "    </tr>\n",
              "  </tbody>\n",
              "</table>\n",
              "<p>3875 rows × 3 columns</p>\n",
              "</div>"
            ],
            "text/plain": [
              "                Open     Close      High\n",
              "2021-10-29  324.1300  331.6200  332.0000\n",
              "2021-10-28  324.3250  324.3500  324.8700\n",
              "2021-10-27  316.0000  323.1700  326.0973\n",
              "2021-10-26  311.0000  310.1100  312.3950\n",
              "2021-10-25  309.3600  308.1300  309.4000\n",
              "...              ...       ...       ...\n",
              "2006-06-16   21.9700   22.1000   22.2800\n",
              "2006-06-15   22.0100   22.0700   22.1301\n",
              "2006-06-14   21.5900   21.8800   21.9400\n",
              "2006-06-13   21.7300   21.5100   22.0300\n",
              "2006-06-12   21.9500   21.7100   22.1000\n",
              "\n",
              "[3875 rows x 3 columns]"
            ]
          },
          "metadata": {},
          "execution_count": 26
        }
      ]
    },
    {
      "cell_type": "code",
      "metadata": {
        "colab": {
          "base_uri": "https://localhost:8080/"
        },
        "id": "pRzapy0MMgRF",
        "outputId": "c28f6306-e9c2-4787-bf73-314a858ac56b"
      },
      "source": [
        "df=data1['High']\n",
        "df=df[:60]\n",
        "df=df[::-1]\n",
        "df=df.reset_index()['High']\n",
        "df=np.array(df).reshape(-1, 1)\n",
        "df=scaler.fit_transform(df)\n",
        "df"
      ],
      "execution_count": null,
      "outputs": [
        {
          "output_type": "execute_result",
          "data": {
            "text/plain": [
              "array([[0.06035817],\n",
              "       [0.10568207],\n",
              "       [0.05483086],\n",
              "       [0.04178642],\n",
              "       [0.0707495 ],\n",
              "       [0.13552952],\n",
              "       [0.17797922],\n",
              "       [0.1472474 ],\n",
              "       [0.17797922],\n",
              "       [0.23656865],\n",
              "       [0.42162282],\n",
              "       [0.41189476],\n",
              "       [0.41742207],\n",
              "       [0.39398629],\n",
              "       [0.34620827],\n",
              "       [0.31174   ],\n",
              "       [0.38580588],\n",
              "       [0.39199646],\n",
              "       [0.40725182],\n",
              "       [0.36679637],\n",
              "       [0.34998895],\n",
              "       [0.31660402],\n",
              "       [0.3059916 ],\n",
              "       [0.3398187 ],\n",
              "       [0.29073624],\n",
              "       [0.26022551],\n",
              "       [0.32323679],\n",
              "       [0.41012602],\n",
              "       [0.40990493],\n",
              "       [0.39199646],\n",
              "       [0.26420517],\n",
              "       [0.23811629],\n",
              "       [0.297369  ],\n",
              "       [0.31240327],\n",
              "       [0.28808313],\n",
              "       [0.21445943],\n",
              "       [0.08865797],\n",
              "       [0.        ],\n",
              "       [0.02343577],\n",
              "       [0.07097059],\n",
              "       [0.02166704],\n",
              "       [0.08021225],\n",
              "       [0.15166925],\n",
              "       [0.218218  ],\n",
              "       [0.2182379 ],\n",
              "       [0.24762326],\n",
              "       [0.19168693],\n",
              "       [0.2323679 ],\n",
              "       [0.36480212],\n",
              "       [0.390891  ],\n",
              "       [0.47402167],\n",
              "       [0.49812072],\n",
              "       [0.5069644 ],\n",
              "       [0.53614857],\n",
              "       [0.53769622],\n",
              "       [0.50033164],\n",
              "       [0.56654875],\n",
              "       [0.86949591],\n",
              "       [0.84236126],\n",
              "       [1.        ]])"
            ]
          },
          "metadata": {},
          "execution_count": 27
        }
      ]
    },
    {
      "cell_type": "code",
      "metadata": {
        "colab": {
          "base_uri": "https://localhost:8080/"
        },
        "id": "di-7CLVgOERJ",
        "outputId": "65fc0d33-c0e5-43bf-8a01-fb27f2eae668"
      },
      "source": [
        "dataset=[]\n",
        "a=df[0:60, 0]\n",
        "dataset.append(a)\n",
        "dataset=np.array(dataset)\n",
        "dataset=dataset.reshape(dataset.shape[0], dataset.shape[1], 1)\n",
        "ans=restored_model.predict(dataset)\n",
        "ans=scaler.inverse_transform(ans)\n",
        "print(ans)"
      ],
      "execution_count": null,
      "outputs": [
        {
          "output_type": "stream",
          "name": "stdout",
          "text": [
            "[[329.87402]]\n"
          ]
        }
      ]
    }
  ]
}