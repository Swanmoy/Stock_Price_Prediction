{
  "nbformat": 4,
  "nbformat_minor": 0,
  "metadata": {
    "colab": {
      "name": "Untitled13.ipynb",
      "provenance": [],
      "collapsed_sections": []
    },
    "kernelspec": {
      "name": "python3",
      "display_name": "Python 3"
    },
    "language_info": {
      "name": "python"
    },
    "accelerator": "GPU"
  },
  "cells": [
    {
      "cell_type": "code",
      "metadata": {
        "id": "5Pzq7-UW5baR"
      },
      "source": [
        "import pandas as pd\n",
        "import numpy as np"
      ],
      "execution_count": null,
      "outputs": []
    },
    {
      "cell_type": "code",
      "metadata": {
        "colab": {
          "base_uri": "https://localhost:8080/",
          "height": 408
        },
        "id": "_BNzyjhA6LF0",
        "outputId": "49ec7eef-040b-4469-80da-fd851d1644e7"
      },
      "source": [
        "data=pd.read_json(\"Microsoft-stocks.json\")\n",
        "data=data[6:]\n",
        "data=data['Time Series (Daily)']\n",
        "data=pd.DataFrame(data)\n",
        "data1=[[i['1. open'], i['4. close'], i['2. high']] for i in data['Time Series (Daily)']]\n",
        "data1=pd.DataFrame(data1, columns=['Open', 'Close', 'High'], index=data.index)\n",
        "data1=data1[:int(0.7*len(data1))]\n",
        "data1\n"
      ],
      "execution_count": null,
      "outputs": [
        {
          "output_type": "execute_result",
          "data": {
            "text/html": [
              "<div>\n",
              "<style scoped>\n",
              "    .dataframe tbody tr th:only-of-type {\n",
              "        vertical-align: middle;\n",
              "    }\n",
              "\n",
              "    .dataframe tbody tr th {\n",
              "        vertical-align: top;\n",
              "    }\n",
              "\n",
              "    .dataframe thead th {\n",
              "        text-align: right;\n",
              "    }\n",
              "</style>\n",
              "<table border=\"1\" class=\"dataframe\">\n",
              "  <thead>\n",
              "    <tr style=\"text-align: right;\">\n",
              "      <th></th>\n",
              "      <th>Open</th>\n",
              "      <th>Close</th>\n",
              "      <th>High</th>\n",
              "    </tr>\n",
              "  </thead>\n",
              "  <tbody>\n",
              "    <tr>\n",
              "      <th>2021-10-28</th>\n",
              "      <td>324.3250</td>\n",
              "      <td>324.3500</td>\n",
              "      <td>324.8700</td>\n",
              "    </tr>\n",
              "    <tr>\n",
              "      <th>2021-10-27</th>\n",
              "      <td>316.0000</td>\n",
              "      <td>323.1700</td>\n",
              "      <td>326.0973</td>\n",
              "    </tr>\n",
              "    <tr>\n",
              "      <th>2021-10-26</th>\n",
              "      <td>311.0000</td>\n",
              "      <td>310.1100</td>\n",
              "      <td>312.3950</td>\n",
              "    </tr>\n",
              "    <tr>\n",
              "      <th>2021-10-25</th>\n",
              "      <td>309.3600</td>\n",
              "      <td>308.1300</td>\n",
              "      <td>309.4000</td>\n",
              "    </tr>\n",
              "    <tr>\n",
              "      <th>2021-10-22</th>\n",
              "      <td>310.4000</td>\n",
              "      <td>309.1600</td>\n",
              "      <td>311.0900</td>\n",
              "    </tr>\n",
              "    <tr>\n",
              "      <th>...</th>\n",
              "      <td>...</td>\n",
              "      <td>...</td>\n",
              "      <td>...</td>\n",
              "    </tr>\n",
              "    <tr>\n",
              "      <th>2006-06-16</th>\n",
              "      <td>21.9700</td>\n",
              "      <td>22.1000</td>\n",
              "      <td>22.2800</td>\n",
              "    </tr>\n",
              "    <tr>\n",
              "      <th>2006-06-15</th>\n",
              "      <td>22.0100</td>\n",
              "      <td>22.0700</td>\n",
              "      <td>22.1301</td>\n",
              "    </tr>\n",
              "    <tr>\n",
              "      <th>2006-06-14</th>\n",
              "      <td>21.5900</td>\n",
              "      <td>21.8800</td>\n",
              "      <td>21.9400</td>\n",
              "    </tr>\n",
              "    <tr>\n",
              "      <th>2006-06-13</th>\n",
              "      <td>21.7300</td>\n",
              "      <td>21.5100</td>\n",
              "      <td>22.0300</td>\n",
              "    </tr>\n",
              "    <tr>\n",
              "      <th>2006-06-12</th>\n",
              "      <td>21.9500</td>\n",
              "      <td>21.7100</td>\n",
              "      <td>22.1000</td>\n",
              "    </tr>\n",
              "  </tbody>\n",
              "</table>\n",
              "<p>3874 rows × 3 columns</p>\n",
              "</div>"
            ],
            "text/plain": [
              "                Open     Close      High\n",
              "2021-10-28  324.3250  324.3500  324.8700\n",
              "2021-10-27  316.0000  323.1700  326.0973\n",
              "2021-10-26  311.0000  310.1100  312.3950\n",
              "2021-10-25  309.3600  308.1300  309.4000\n",
              "2021-10-22  310.4000  309.1600  311.0900\n",
              "...              ...       ...       ...\n",
              "2006-06-16   21.9700   22.1000   22.2800\n",
              "2006-06-15   22.0100   22.0700   22.1301\n",
              "2006-06-14   21.5900   21.8800   21.9400\n",
              "2006-06-13   21.7300   21.5100   22.0300\n",
              "2006-06-12   21.9500   21.7100   22.1000\n",
              "\n",
              "[3874 rows x 3 columns]"
            ]
          },
          "metadata": {},
          "execution_count": 3
        }
      ]
    },
    {
      "cell_type": "code",
      "metadata": {
        "id": "Yk-cL-2y1Rxo"
      },
      "source": [
        ""
      ],
      "execution_count": null,
      "outputs": []
    },
    {
      "cell_type": "code",
      "metadata": {
        "id": "Ikg24l8L6obe",
        "colab": {
          "base_uri": "https://localhost:8080/"
        },
        "outputId": "6a795ff5-73ee-469a-b07d-7881e725fa91"
      },
      "source": [
        "df=data1['High']\n",
        "df2=df.reset_index()['High']\n",
        "df2=df2[::-1]\n",
        "df2.shape\n"
      ],
      "execution_count": null,
      "outputs": [
        {
          "output_type": "execute_result",
          "data": {
            "text/plain": [
              "(3874,)"
            ]
          },
          "metadata": {},
          "execution_count": 4
        }
      ]
    },
    {
      "cell_type": "code",
      "metadata": {
        "colab": {
          "base_uri": "https://localhost:8080/"
        },
        "id": "17oIhlu7w5qF",
        "outputId": "4232aed6-b40d-452d-99d4-047ed993f500"
      },
      "source": [
        "import matplotlib.pyplot as plt\n",
        "df2=df2.reset_index()['High']\n",
        "df2\n"
      ],
      "execution_count": null,
      "outputs": [
        {
          "output_type": "execute_result",
          "data": {
            "text/plain": [
              "0        22.1000\n",
              "1        22.0300\n",
              "2        21.9400\n",
              "3        22.1301\n",
              "4        22.2800\n",
              "          ...   \n",
              "3869    311.0900\n",
              "3870    309.4000\n",
              "3871    312.3950\n",
              "3872    326.0973\n",
              "3873    324.8700\n",
              "Name: High, Length: 3874, dtype: object"
            ]
          },
          "metadata": {},
          "execution_count": 5
        }
      ]
    },
    {
      "cell_type": "code",
      "metadata": {
        "colab": {
          "base_uri": "https://localhost:8080/"
        },
        "id": "3ZJjhGddxhmy",
        "outputId": "1e75f092-aaa0-45cc-c9b0-13b3a78595bf"
      },
      "source": [
        "from sklearn.preprocessing import MinMaxScaler\n",
        "scaler=MinMaxScaler(feature_range=(0,1))\n",
        "df2=np.array(df2).reshape(-1,1)\n",
        "df2=scaler.fit_transform(df2)\n",
        "df2\n",
        "#df2=scaler.fit_transform(np.array(df2).reshape(-1, 1))"
      ],
      "execution_count": null,
      "outputs": [
        {
          "output_type": "execute_result",
          "data": {
            "text/plain": [
              "array([[0.02087109],\n",
              "       [0.02064563],\n",
              "       [0.02035576],\n",
              "       ...,\n",
              "       [0.95586698],\n",
              "       [1.        ],\n",
              "       [0.99604705]])"
            ]
          },
          "metadata": {},
          "execution_count": 6
        }
      ]
    },
    {
      "cell_type": "code",
      "metadata": {
        "colab": {
          "base_uri": "https://localhost:8080/"
        },
        "id": "P_u-tOd153R1",
        "outputId": "bbdef340-0b87-4555-f47f-a357e03e26d7"
      },
      "source": [
        "df2"
      ],
      "execution_count": null,
      "outputs": [
        {
          "output_type": "execute_result",
          "data": {
            "text/plain": [
              "array([[0.02087109],\n",
              "       [0.02064563],\n",
              "       [0.02035576],\n",
              "       ...,\n",
              "       [0.95586698],\n",
              "       [1.        ],\n",
              "       [0.99604705]])"
            ]
          },
          "metadata": {},
          "execution_count": 7
        }
      ]
    },
    {
      "cell_type": "code",
      "metadata": {
        "id": "q8UwHWaT-1yK"
      },
      "source": [
        ""
      ],
      "execution_count": null,
      "outputs": []
    },
    {
      "cell_type": "code",
      "metadata": {
        "id": "EiAhkGkk7bmB"
      },
      "source": [
        "training_size=int(0.65*len(df2))\n",
        "testing_size=len(df2)-training_size\n",
        "train_data, test_data=df2[0:training_size, :], df2[training_size:len(df2), :1]"
      ],
      "execution_count": null,
      "outputs": []
    },
    {
      "cell_type": "code",
      "metadata": {
        "id": "bfYNR72v9f2B"
      },
      "source": [
        "def create_dataset(dataset, timestep=1):\n",
        "  dataX, dataY=[], []\n",
        "  for i in range(len(dataset)-timestep):\n",
        "    a=dataset[i:(i+timestep), 0]\n",
        "    dataX.append(a)\n",
        "    dataY.append(dataset[i+timestep, 0])\n",
        "  return np.array(dataX), np.array(dataY)"
      ],
      "execution_count": null,
      "outputs": []
    },
    {
      "cell_type": "code",
      "metadata": {
        "id": "vfZjoArj_EBk"
      },
      "source": [
        "timestep=60\n",
        "train_X, train_Y=create_dataset(train_data, timestep)\n",
        "test_X, test_Y=create_dataset(test_data, timestep)"
      ],
      "execution_count": null,
      "outputs": []
    },
    {
      "cell_type": "code",
      "metadata": {
        "id": "YhKT9JPQCU6j"
      },
      "source": [
        "train_X=train_X.reshape(train_X.shape[0], train_X.shape[1], 1)\n",
        "test_X=test_X.reshape(test_X.shape[0], test_X.shape[1], 1)"
      ],
      "execution_count": null,
      "outputs": []
    },
    {
      "cell_type": "code",
      "metadata": {
        "id": "2gkxflpSDwie"
      },
      "source": [
        "from tensorflow.keras.models import Sequential\n",
        "from tensorflow.keras.layers import LSTM\n",
        "from tensorflow.keras.layers import Dense"
      ],
      "execution_count": null,
      "outputs": []
    },
    {
      "cell_type": "code",
      "metadata": {
        "id": "eAbN0qf8EKAV"
      },
      "source": [
        "model=Sequential()\n",
        "model.add(LSTM(100, return_sequences=True, input_shape=(60, 1)))\n",
        "model.add(LSTM(100, return_sequences=True))\n",
        "model.add(LSTM(100))\n",
        "model.add(Dense(1))\n",
        "model.compile(loss='mean_squared_error', optimizer='adam')"
      ],
      "execution_count": null,
      "outputs": []
    },
    {
      "cell_type": "code",
      "metadata": {
        "colab": {
          "base_uri": "https://localhost:8080/"
        },
        "id": "6PlftFziE_Zk",
        "outputId": "c1d5ba5c-68dc-4cc5-f7c6-5a5e47c37a91"
      },
      "source": [
        "model.summary()"
      ],
      "execution_count": null,
      "outputs": [
        {
          "output_type": "stream",
          "name": "stdout",
          "text": [
            "Model: \"sequential\"\n",
            "_________________________________________________________________\n",
            "Layer (type)                 Output Shape              Param #   \n",
            "=================================================================\n",
            "lstm (LSTM)                  (None, 60, 100)           40800     \n",
            "_________________________________________________________________\n",
            "lstm_1 (LSTM)                (None, 60, 100)           80400     \n",
            "_________________________________________________________________\n",
            "lstm_2 (LSTM)                (None, 100)               80400     \n",
            "_________________________________________________________________\n",
            "dense (Dense)                (None, 1)                 101       \n",
            "=================================================================\n",
            "Total params: 201,701\n",
            "Trainable params: 201,701\n",
            "Non-trainable params: 0\n",
            "_________________________________________________________________\n"
          ]
        }
      ]
    },
    {
      "cell_type": "code",
      "metadata": {
        "colab": {
          "base_uri": "https://localhost:8080/"
        },
        "id": "xCdggSTNFGu6",
        "outputId": "740880b5-55fd-43ad-8b75-5747a56ed513"
      },
      "source": [
        "model.fit(train_X, train_Y, validation_data=(test_X, test_Y), epochs=100, batch_size=64, verbose=1)"
      ],
      "execution_count": null,
      "outputs": [
        {
          "output_type": "stream",
          "name": "stdout",
          "text": [
            "Epoch 1/100\n",
            "39/39 [==============================] - 13s 96ms/step - loss: 2.8237e-04 - val_loss: 0.0017\n",
            "Epoch 2/100\n",
            "39/39 [==============================] - 2s 61ms/step - loss: 2.4684e-05 - val_loss: 0.0011\n",
            "Epoch 3/100\n",
            "39/39 [==============================] - 2s 62ms/step - loss: 2.0592e-05 - val_loss: 7.6808e-04\n",
            "Epoch 4/100\n",
            "39/39 [==============================] - 2s 62ms/step - loss: 1.8824e-05 - val_loss: 0.0018\n",
            "Epoch 5/100\n",
            "39/39 [==============================] - 2s 61ms/step - loss: 1.8567e-05 - val_loss: 9.0822e-04\n",
            "Epoch 6/100\n",
            "39/39 [==============================] - 2s 62ms/step - loss: 1.7745e-05 - val_loss: 7.1845e-04\n",
            "Epoch 7/100\n",
            "39/39 [==============================] - 2s 61ms/step - loss: 1.5220e-05 - val_loss: 3.3944e-04\n",
            "Epoch 8/100\n",
            "39/39 [==============================] - 2s 61ms/step - loss: 1.5273e-05 - val_loss: 3.1804e-04\n",
            "Epoch 9/100\n",
            "39/39 [==============================] - 2s 61ms/step - loss: 1.5812e-05 - val_loss: 6.9963e-04\n",
            "Epoch 10/100\n",
            "39/39 [==============================] - 2s 62ms/step - loss: 1.6206e-05 - val_loss: 5.1964e-04\n",
            "Epoch 11/100\n",
            "39/39 [==============================] - 2s 62ms/step - loss: 1.3379e-05 - val_loss: 3.1537e-04\n",
            "Epoch 12/100\n",
            "39/39 [==============================] - 2s 61ms/step - loss: 1.5461e-05 - val_loss: 9.9636e-04\n",
            "Epoch 13/100\n",
            "39/39 [==============================] - 2s 62ms/step - loss: 1.4816e-05 - val_loss: 0.0015\n",
            "Epoch 14/100\n",
            "39/39 [==============================] - 2s 61ms/step - loss: 1.3720e-05 - val_loss: 2.4596e-04\n",
            "Epoch 15/100\n",
            "39/39 [==============================] - 2s 62ms/step - loss: 1.3379e-05 - val_loss: 4.2783e-04\n",
            "Epoch 16/100\n",
            "39/39 [==============================] - 2s 61ms/step - loss: 1.1908e-05 - val_loss: 3.7785e-04\n",
            "Epoch 17/100\n",
            "39/39 [==============================] - 2s 61ms/step - loss: 1.2742e-05 - val_loss: 9.9149e-04\n",
            "Epoch 18/100\n",
            "39/39 [==============================] - 2s 61ms/step - loss: 1.1298e-05 - val_loss: 3.3566e-04\n",
            "Epoch 19/100\n",
            "39/39 [==============================] - 2s 61ms/step - loss: 1.1380e-05 - val_loss: 5.2755e-04\n",
            "Epoch 20/100\n",
            "39/39 [==============================] - 2s 61ms/step - loss: 1.2463e-05 - val_loss: 2.0978e-04\n",
            "Epoch 21/100\n",
            "39/39 [==============================] - 2s 61ms/step - loss: 1.3104e-05 - val_loss: 9.9816e-04\n",
            "Epoch 22/100\n",
            "39/39 [==============================] - 2s 61ms/step - loss: 1.3359e-05 - val_loss: 2.7571e-04\n",
            "Epoch 23/100\n",
            "39/39 [==============================] - 2s 61ms/step - loss: 1.1187e-05 - val_loss: 6.5277e-04\n",
            "Epoch 24/100\n",
            "39/39 [==============================] - 2s 62ms/step - loss: 1.0760e-05 - val_loss: 2.7901e-04\n",
            "Epoch 25/100\n",
            "39/39 [==============================] - 2s 61ms/step - loss: 1.1409e-05 - val_loss: 9.6661e-04\n",
            "Epoch 26/100\n",
            "39/39 [==============================] - 2s 62ms/step - loss: 9.9327e-06 - val_loss: 2.4254e-04\n",
            "Epoch 27/100\n",
            "39/39 [==============================] - 2s 62ms/step - loss: 1.1325e-05 - val_loss: 2.1605e-04\n",
            "Epoch 28/100\n",
            "39/39 [==============================] - 2s 61ms/step - loss: 1.1964e-05 - val_loss: 3.3748e-04\n",
            "Epoch 29/100\n",
            "39/39 [==============================] - 2s 61ms/step - loss: 1.1075e-05 - val_loss: 3.2194e-04\n",
            "Epoch 30/100\n",
            "39/39 [==============================] - 2s 61ms/step - loss: 9.4790e-06 - val_loss: 3.4738e-04\n",
            "Epoch 31/100\n",
            "39/39 [==============================] - 2s 62ms/step - loss: 8.4081e-06 - val_loss: 1.9149e-04\n",
            "Epoch 32/100\n",
            "39/39 [==============================] - 2s 63ms/step - loss: 1.0240e-05 - val_loss: 2.8208e-04\n",
            "Epoch 33/100\n",
            "39/39 [==============================] - 2s 61ms/step - loss: 9.2898e-06 - val_loss: 2.1328e-04\n",
            "Epoch 34/100\n",
            "39/39 [==============================] - 2s 61ms/step - loss: 8.7122e-06 - val_loss: 3.7141e-04\n",
            "Epoch 35/100\n",
            "39/39 [==============================] - 2s 62ms/step - loss: 8.2900e-06 - val_loss: 2.2014e-04\n",
            "Epoch 36/100\n",
            "39/39 [==============================] - 2s 62ms/step - loss: 8.2710e-06 - val_loss: 3.4995e-04\n",
            "Epoch 37/100\n",
            "39/39 [==============================] - 2s 61ms/step - loss: 8.1060e-06 - val_loss: 3.8430e-04\n",
            "Epoch 38/100\n",
            "39/39 [==============================] - 2s 61ms/step - loss: 8.9162e-06 - val_loss: 2.0593e-04\n",
            "Epoch 39/100\n",
            "39/39 [==============================] - 2s 62ms/step - loss: 8.1921e-06 - val_loss: 2.3032e-04\n",
            "Epoch 40/100\n",
            "39/39 [==============================] - 2s 62ms/step - loss: 7.9239e-06 - val_loss: 1.3134e-04\n",
            "Epoch 41/100\n",
            "39/39 [==============================] - 2s 63ms/step - loss: 7.0852e-06 - val_loss: 2.6394e-04\n",
            "Epoch 42/100\n",
            "39/39 [==============================] - 2s 62ms/step - loss: 7.6487e-06 - val_loss: 1.5021e-04\n",
            "Epoch 43/100\n",
            "39/39 [==============================] - 2s 62ms/step - loss: 8.0611e-06 - val_loss: 3.3119e-04\n",
            "Epoch 44/100\n",
            "39/39 [==============================] - 2s 62ms/step - loss: 7.8032e-06 - val_loss: 2.2095e-04\n",
            "Epoch 45/100\n",
            "39/39 [==============================] - 2s 62ms/step - loss: 6.2538e-06 - val_loss: 2.9144e-04\n",
            "Epoch 46/100\n",
            "39/39 [==============================] - 2s 63ms/step - loss: 6.4231e-06 - val_loss: 2.6960e-04\n",
            "Epoch 47/100\n",
            "39/39 [==============================] - 2s 62ms/step - loss: 6.4023e-06 - val_loss: 1.3191e-04\n",
            "Epoch 48/100\n",
            "39/39 [==============================] - 2s 62ms/step - loss: 8.3654e-06 - val_loss: 2.4759e-04\n",
            "Epoch 49/100\n",
            "39/39 [==============================] - 2s 62ms/step - loss: 7.7476e-06 - val_loss: 2.4186e-04\n",
            "Epoch 50/100\n",
            "39/39 [==============================] - 2s 63ms/step - loss: 6.6393e-06 - val_loss: 2.6464e-04\n",
            "Epoch 51/100\n",
            "39/39 [==============================] - 2s 62ms/step - loss: 5.6207e-06 - val_loss: 3.4251e-04\n",
            "Epoch 52/100\n",
            "39/39 [==============================] - 2s 62ms/step - loss: 5.7322e-06 - val_loss: 3.4145e-04\n",
            "Epoch 53/100\n",
            "39/39 [==============================] - 2s 62ms/step - loss: 6.1892e-06 - val_loss: 1.5333e-04\n",
            "Epoch 54/100\n",
            "39/39 [==============================] - 2s 61ms/step - loss: 5.4802e-06 - val_loss: 1.2661e-04\n",
            "Epoch 55/100\n",
            "39/39 [==============================] - 2s 63ms/step - loss: 5.2362e-06 - val_loss: 1.0167e-04\n",
            "Epoch 56/100\n",
            "39/39 [==============================] - 2s 62ms/step - loss: 7.2405e-06 - val_loss: 9.6692e-05\n",
            "Epoch 57/100\n",
            "39/39 [==============================] - 2s 61ms/step - loss: 6.6590e-06 - val_loss: 1.1981e-04\n",
            "Epoch 58/100\n",
            "39/39 [==============================] - 2s 63ms/step - loss: 6.3567e-06 - val_loss: 1.1196e-04\n",
            "Epoch 59/100\n",
            "39/39 [==============================] - 2s 62ms/step - loss: 5.3612e-06 - val_loss: 1.3965e-04\n",
            "Epoch 60/100\n",
            "39/39 [==============================] - 2s 62ms/step - loss: 5.6388e-06 - val_loss: 1.0988e-04\n",
            "Epoch 61/100\n",
            "39/39 [==============================] - 2s 61ms/step - loss: 4.6413e-06 - val_loss: 2.2682e-04\n",
            "Epoch 62/100\n",
            "39/39 [==============================] - 2s 62ms/step - loss: 4.6537e-06 - val_loss: 1.0695e-04\n",
            "Epoch 63/100\n",
            "39/39 [==============================] - 2s 62ms/step - loss: 4.9384e-06 - val_loss: 2.1696e-04\n",
            "Epoch 64/100\n",
            "39/39 [==============================] - 2s 63ms/step - loss: 4.9970e-06 - val_loss: 2.6429e-04\n",
            "Epoch 65/100\n",
            "39/39 [==============================] - 2s 62ms/step - loss: 4.9392e-06 - val_loss: 1.0307e-04\n",
            "Epoch 66/100\n",
            "39/39 [==============================] - 2s 62ms/step - loss: 4.5945e-06 - val_loss: 1.5948e-04\n",
            "Epoch 67/100\n",
            "39/39 [==============================] - 2s 62ms/step - loss: 4.5573e-06 - val_loss: 1.3712e-04\n",
            "Epoch 68/100\n",
            "39/39 [==============================] - 2s 61ms/step - loss: 4.2285e-06 - val_loss: 1.3496e-04\n",
            "Epoch 69/100\n",
            "39/39 [==============================] - 2s 63ms/step - loss: 5.2803e-06 - val_loss: 1.7464e-04\n",
            "Epoch 70/100\n",
            "39/39 [==============================] - 2s 63ms/step - loss: 4.2528e-06 - val_loss: 1.0818e-04\n",
            "Epoch 71/100\n",
            "39/39 [==============================] - 2s 63ms/step - loss: 4.2010e-06 - val_loss: 2.5954e-04\n",
            "Epoch 72/100\n",
            "39/39 [==============================] - 2s 63ms/step - loss: 4.6533e-06 - val_loss: 7.2351e-05\n",
            "Epoch 73/100\n",
            "39/39 [==============================] - 2s 62ms/step - loss: 3.6155e-06 - val_loss: 1.0615e-04\n",
            "Epoch 74/100\n",
            "39/39 [==============================] - 2s 62ms/step - loss: 4.5846e-06 - val_loss: 9.8485e-05\n",
            "Epoch 75/100\n",
            "39/39 [==============================] - 2s 62ms/step - loss: 3.9419e-06 - val_loss: 7.3074e-05\n",
            "Epoch 76/100\n",
            "39/39 [==============================] - 2s 62ms/step - loss: 4.5755e-06 - val_loss: 5.3256e-04\n",
            "Epoch 77/100\n",
            "39/39 [==============================] - 2s 61ms/step - loss: 3.6207e-06 - val_loss: 7.3441e-05\n",
            "Epoch 78/100\n",
            "39/39 [==============================] - 2s 61ms/step - loss: 3.9277e-06 - val_loss: 1.0851e-04\n",
            "Epoch 79/100\n",
            "39/39 [==============================] - 2s 62ms/step - loss: 4.3188e-06 - val_loss: 8.1714e-05\n",
            "Epoch 80/100\n",
            "39/39 [==============================] - 2s 61ms/step - loss: 4.1965e-06 - val_loss: 7.6670e-05\n",
            "Epoch 81/100\n",
            "39/39 [==============================] - 2s 62ms/step - loss: 4.6806e-06 - val_loss: 1.0518e-04\n",
            "Epoch 82/100\n",
            "39/39 [==============================] - 2s 61ms/step - loss: 3.8524e-06 - val_loss: 9.4895e-05\n",
            "Epoch 83/100\n",
            "39/39 [==============================] - 2s 62ms/step - loss: 4.3019e-06 - val_loss: 6.4766e-05\n",
            "Epoch 84/100\n",
            "39/39 [==============================] - 2s 62ms/step - loss: 3.5579e-06 - val_loss: 2.1913e-04\n",
            "Epoch 85/100\n",
            "39/39 [==============================] - 2s 62ms/step - loss: 3.7108e-06 - val_loss: 7.0565e-05\n",
            "Epoch 86/100\n",
            "39/39 [==============================] - 2s 62ms/step - loss: 4.8189e-06 - val_loss: 7.6498e-05\n",
            "Epoch 87/100\n",
            "39/39 [==============================] - 2s 62ms/step - loss: 3.7997e-06 - val_loss: 7.6138e-05\n",
            "Epoch 88/100\n",
            "39/39 [==============================] - 2s 62ms/step - loss: 3.6614e-06 - val_loss: 2.6994e-04\n",
            "Epoch 89/100\n",
            "39/39 [==============================] - 2s 61ms/step - loss: 3.7435e-06 - val_loss: 6.3070e-05\n",
            "Epoch 90/100\n",
            "39/39 [==============================] - 2s 62ms/step - loss: 3.7681e-06 - val_loss: 8.0008e-05\n",
            "Epoch 91/100\n",
            "39/39 [==============================] - 2s 61ms/step - loss: 3.1622e-06 - val_loss: 6.2796e-05\n",
            "Epoch 92/100\n",
            "39/39 [==============================] - 2s 61ms/step - loss: 3.8396e-06 - val_loss: 1.3322e-04\n",
            "Epoch 93/100\n",
            "39/39 [==============================] - 2s 62ms/step - loss: 3.6999e-06 - val_loss: 1.0643e-04\n",
            "Epoch 94/100\n",
            "39/39 [==============================] - 2s 61ms/step - loss: 3.1158e-06 - val_loss: 6.3089e-05\n",
            "Epoch 95/100\n",
            "39/39 [==============================] - 2s 62ms/step - loss: 3.3967e-06 - val_loss: 8.3451e-05\n",
            "Epoch 96/100\n",
            "39/39 [==============================] - 2s 61ms/step - loss: 3.9827e-06 - val_loss: 3.8231e-04\n",
            "Epoch 97/100\n",
            "39/39 [==============================] - 2s 61ms/step - loss: 3.4076e-06 - val_loss: 2.1566e-04\n",
            "Epoch 98/100\n",
            "39/39 [==============================] - 2s 62ms/step - loss: 4.0567e-06 - val_loss: 9.1000e-05\n",
            "Epoch 99/100\n",
            "39/39 [==============================] - 2s 62ms/step - loss: 3.9272e-06 - val_loss: 8.2406e-05\n",
            "Epoch 100/100\n",
            "39/39 [==============================] - 2s 62ms/step - loss: 3.3101e-06 - val_loss: 9.3716e-05\n"
          ]
        },
        {
          "output_type": "execute_result",
          "data": {
            "text/plain": [
              "<keras.callbacks.History at 0x7f449592c7d0>"
            ]
          },
          "metadata": {},
          "execution_count": 15
        }
      ]
    },
    {
      "cell_type": "code",
      "metadata": {
        "colab": {
          "base_uri": "https://localhost:8080/"
        },
        "id": "uAPyQ2uoGYQl",
        "outputId": "3c8d45e9-1afe-4edd-ea26-dc62ec50f816"
      },
      "source": [
        "test_predict=model.predict(test_X)\n",
        "test_predict=scaler.inverse_transform(test_predict)\n",
        "#print(scaler.inverse_transform(test_data))\n",
        "print(test_predict)"
      ],
      "execution_count": null,
      "outputs": [
        {
          "output_type": "stream",
          "name": "stdout",
          "text": [
            "[[ 57.84336]\n",
            " [ 57.77704]\n",
            " [ 57.7323 ]\n",
            " ...\n",
            " [303.62485]\n",
            " [305.46695]\n",
            " [316.2854 ]]\n"
          ]
        }
      ]
    },
    {
      "cell_type": "code",
      "metadata": {
        "colab": {
          "base_uri": "https://localhost:8080/"
        },
        "id": "SaG7NGgzKWNN",
        "outputId": "35852878-7749-4276-8786-b85e9f67a7d3"
      },
      "source": [
        "import math\n",
        "from sklearn.metrics import mean_squared_error\n",
        "print(math.sqrt(mean_squared_error(scaler.inverse_transform(test_Y.reshape(-1, 1)), test_predict)))"
      ],
      "execution_count": null,
      "outputs": [
        {
          "output_type": "stream",
          "name": "stdout",
          "text": [
            "3.0056375992726445\n"
          ]
        }
      ]
    },
    {
      "cell_type": "code",
      "metadata": {
        "colab": {
          "base_uri": "https://localhost:8080/"
        },
        "id": "NDiee1TkOsAE",
        "outputId": "4e13fbc6-ea17-4bb7-b3ea-4b8313c55797"
      },
      "source": [
        "print(test_predict)\n",
        "#print(scaler.inverse_transform(test_Y.reshape(-1, 1)))"
      ],
      "execution_count": null,
      "outputs": [
        {
          "output_type": "stream",
          "name": "stdout",
          "text": [
            "[[ 57.84336]\n",
            " [ 57.77704]\n",
            " [ 57.7323 ]\n",
            " ...\n",
            " [303.62485]\n",
            " [305.46695]\n",
            " [316.2854 ]]\n"
          ]
        }
      ]
    },
    {
      "cell_type": "code",
      "metadata": {
        "id": "-p_7RP36I-tb"
      },
      "source": [
        "model.save('microsoft_model.h5')"
      ],
      "execution_count": null,
      "outputs": []
    },
    {
      "cell_type": "code",
      "metadata": {
        "id": "_nVjchEzJI_4"
      },
      "source": [
        "from pickle import dump\n",
        "dump(scaler, open('scaler.pkl', 'wb'))"
      ],
      "execution_count": null,
      "outputs": []
    }
  ]
}